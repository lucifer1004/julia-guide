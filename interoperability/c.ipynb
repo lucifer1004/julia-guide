{
  "cells": [
    {
      "cell_type": "raw",
      "id": "8a9d7ead",
      "metadata": {},
      "source": [
        "---\n",
        "title: \"Julia 与 C 的互操作\"\n",
        "lang: zh\n",
        "jupyter: julia-1.8\n",
        "---"
      ]
    },
    {
      "attachments": {},
      "cell_type": "markdown",
      "id": "146d70aa",
      "metadata": {},
      "source": [
        "## 在 Julia 中调用 C 函数"
      ]
    },
    {
      "attachments": {},
      "cell_type": "markdown",
      "id": "9640cf78",
      "metadata": {},
      "source": [
        "在 Julia 中调用 C 函数非常简单，我们只需要使用 `ccall` 函数即可。"
      ]
    },
    {
      "cell_type": "code",
      "execution_count": 1,
      "id": "6518e692",
      "metadata": {},
      "outputs": [
        {
          "name": "stdout",
          "output_type": "stream",
          "text": [
            "Hello World!\n"
          ]
        }
      ],
      "source": [
        "ccall(:printf, Cvoid, (Cstring,), \"Hello World!\\n\")"
      ]
    },
    {
      "attachments": {},
      "cell_type": "markdown",
      "id": "c37a9bea",
      "metadata": {},
      "source": [
        "此外，Julia 还提供了 `@ccall` 宏，可以进一步简化这一调用。"
      ]
    },
    {
      "cell_type": "code",
      "execution_count": 5,
      "id": "163a74d6",
      "metadata": {},
      "outputs": [
        {
          "name": "stdout",
          "output_type": "stream",
          "text": [
            "Hello World using @ccall!"
          ]
        }
      ],
      "source": [
        "@ccall printf(\"Hello World using @ccall!\"::Cstring)::Cvoid"
      ]
    },
    {
      "attachments": {},
      "cell_type": "markdown",
      "id": "693a786a",
      "metadata": {},
      "source": [
        ":::{.callout-note}\n",
        "## 说明\n",
        "\n",
        "`ccall` 函数和 `@ccall` 宏更详细的使用方法可以参考 Julia 官方文档中的[有关内容](https://docs.julialang.org/en/v1/manual/calling-c-and-fortran-code/)（中文版本在[这里](https://docs.juliacn.com/latest/manual/calling-c-and-fortran-code/)）。\n",
        ":::"
      ]
    },
    {
      "cell_type": "markdown",
      "id": "81b4791e",
      "metadata": {},
      "source": [
        "## 在 C 中调用 Julia 函数"
      ]
    }
  ],
  "metadata": {
    "kernelspec": {
      "display_name": "Julia 1.8.4",
      "language": "julia",
      "name": "julia-1.8"
    },
    "language_info": {
      "file_extension": ".jl",
      "mimetype": "application/julia",
      "name": "julia",
      "version": "1.8.5"
    }
  },
  "nbformat": 4,
  "nbformat_minor": 5
}
