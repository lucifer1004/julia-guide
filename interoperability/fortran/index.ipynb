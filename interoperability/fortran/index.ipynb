{
 "cells": [
  {
   "attachments": {},
   "cell_type": "markdown",
   "metadata": {},
   "source": [
    "---\n",
    "lang: zh\n",
    "jupyter: julia-1.8\n",
    "---\n",
    "\n",
    "# Julia 与 Fortran 的互操作\n",
    "\n",
    "## 在 Julia 中调用 Fortran 函数\n",
    "\n",
    "在 Julia 中调用 Fortran 函数的方法与调用 C 函数完全相同。作为示例，我们在 `interoperability/fortran` 目录下提供了一个简单的动态链接库 `libJuliaFortran`，其中包含了几个简单的 Fortran 函数。\n",
    "\n",
    "```{.fortran filename=\"interoperability/fortran/src/lib.f90\"}\n",
    "module Julia\n",
    "    integer :: last = 0;\n",
    "\n",
    "    contains\n",
    "\n",
    "subroutine add(a,b,c)\n",
    "  implicit none\n",
    "  integer, intent(in) :: a,b\n",
    "  integer, intent(out) :: c\n",
    "  c = a + b\n",
    "  last = c\n",
    "end subroutine add\n",
    "\n",
    "function fadd(a,b) result(c)\n",
    "  implicit none\n",
    "  integer, intent(in) :: a,b\n",
    "  integer :: c\n",
    "  c = a + b\n",
    "end function fadd\n",
    "\n",
    "subroutine vadd(a,b,c,n)\n",
    "  implicit none\n",
    "  integer, intent(in) :: n, a(n), b(n)\n",
    "  integer, intent(out) :: c(n)\n",
    "  c = a + b\n",
    "end subroutine vadd\n",
    "\n",
    "end module\n",
    "```\n",
    "\n",
    "接下来我们尝试在 Julia 中调用这些函数。"
   ]
  },
  {
   "cell_type": "code",
   "execution_count": 25,
   "metadata": {},
   "outputs": [
    {
     "name": "stdout",
     "output_type": "stream",
     "text": [
      "ans[] = 3\n",
      "last = 3\n"
     ]
    }
   ],
   "source": [
    "using Libdl: dlopen, dlsym, dlclose\n",
    "\n",
    "dlopen(\"libJuliaFortran\") do libJuliaFortran\n",
    "    # 使用 `ccall` 调用 Fortran 中的函数\n",
    "    add = dlsym(libJuliaFortran, :__julia_MOD_add)\n",
    "    ans = Ref(Int32(0))\n",
    "    ccall(add, Cvoid, (Ref{Cint}, Ref{Cint}, Ref{Cint}), 1, 2, ans)\n",
    "    @show ans[]\n",
    "\n",
    "    # 使用 `cglobal` 获取 Fortran 中的全局变量\n",
    "    last_sym = dlsym(libJuliaFortran, :__julia_MOD_last)\n",
    "    last_ptr = cglobal(last_sym, Cint)\n",
    "    last = unsafe_load(last_ptr)\n",
    "    @show last\n",
    "\n",
    "    dlclose(libJuliaFortran)\n",
    "    return nothing\n",
    "end"
   ]
  },
  {
   "attachments": {},
   "cell_type": "markdown",
   "metadata": {},
   "source": [
    ":::{.callout-note}\n",
    "### 说明\n",
    "\n",
    "调用 Fortran 函数时，传入的标量类型必须是引用类型，而不是值类型。例如，`Int32` 不能被传入，而必须使用 `Ref{Int32}`。所以，在上面的例子中，我们将 `ans` 定义为 `Ref(Int32(0))` 而不是直接定义为 `Int32(0)`，否则我们无法得到正确的结果。\n",
    ":::\n",
    "\n",
    "读者可能会注意到我们并没有对 `1` 或 `2` 进行包装，这是因为 Julia 会自动对它们进行包装，因此我们可以直接将它们传入 Fortran 函数。但对于我们需要获取的 `ans` 来说，如果由 Julia 自动包装，Fortran 将会对包装后的指针进行修改，而 Julia 这边 `ans` 的值将不会发生变化，就像下面这样："
   ]
  },
  {
   "cell_type": "code",
   "execution_count": 13,
   "metadata": {},
   "outputs": [
    {
     "name": "stdout",
     "output_type": "stream",
     "text": [
      "ans = 0\n"
     ]
    }
   ],
   "source": [
    "dlopen(\"libJuliaFortran\") do libJuliaFortran\n",
    "    add = dlsym(libJuliaFortran, :__julia_MOD_add)\n",
    "    ans = 0\n",
    "    ccall(add, Cvoid, (Ref{Cint}, Ref{Cint}, Ref{Cint}), 1, 2, ans)\n",
    "    @show ans\n",
    "    dlclose(libJuliaFortran)\n",
    "\n",
    "    return nothing\n",
    "end"
   ]
  },
  {
   "attachments": {},
   "cell_type": "markdown",
   "metadata": {
    "notebookRunGroups": {
     "groupValue": "2"
    }
   },
   "source": [
    "如果调用的是 Fortran 中的 `function`，则不需要将函数返回值定义为引用类型，就像下面这样："
   ]
  },
  {
   "cell_type": "code",
   "execution_count": 14,
   "metadata": {},
   "outputs": [
    {
     "name": "stdout",
     "output_type": "stream",
     "text": [
      "ans = 3\n"
     ]
    }
   ],
   "source": [
    "dlopen(\"libJuliaFortran\") do libJuliaFortran\n",
    "    add = dlsym(libJuliaFortran, :__julia_MOD_fadd)\n",
    "    ans = ccall(add, Cint, (Ref{Cint}, Ref{Cint}), 1, 2)\n",
    "    @show ans\n",
    "    dlclose(libJuliaFortran)\n",
    "\n",
    "    return nothing\n",
    "end"
   ]
  },
  {
   "attachments": {},
   "cell_type": "markdown",
   "metadata": {},
   "source": [
    "如果传入的参数是数组，则应当将对应的参数类型声明为 `Ptr{T}`，就像下面这样："
   ]
  },
  {
   "cell_type": "code",
   "execution_count": 8,
   "metadata": {},
   "outputs": [
    {
     "name": "stdout",
     "output_type": "stream",
     "text": [
      "ans = Int32[6, 6, 6, 6, 6]\n"
     ]
    }
   ],
   "source": [
    "dlopen(\"libJuliaFortran\") do libJuliaFortran\n",
    "    add = dlsym(libJuliaFortran, :__julia_MOD_vadd)\n",
    "    a = Int32[1, 2, 3, 4, 5]\n",
    "    b = Int32[5, 4, 3, 2, 1]\n",
    "    ans = zeros(Int32, 5)\n",
    "    ccall(add, Cvoid, (Ptr{Cint}, Ptr{Cint}, Ptr{Cint}, Ref{Cint}), a, b, ans, length(a))\n",
    "    @show ans\n",
    "    dlclose(libJuliaFortran)\n",
    "\n",
    "    return nothing\n",
    "end"
   ]
  },
  {
   "attachments": {},
   "cell_type": "markdown",
   "metadata": {},
   "source": [
    ":::{.callout-note}\n",
    "### 说明\n",
    "目前，在 Julia 中调用 Fortran 时，还存在一些缺陷：\n",
    "\n",
    "- 函数调用时必须显式传入数组的长度，而不能使用 `a(:)` 这样的方式动态获取数组长度。\n",
    "- 必须传入 Fortran 中定义的所有参数，即使某些参数在 Fortran 中被声明为 `optional`。\n",
    ":::"
   ]
  },
  {
   "attachments": {},
   "cell_type": "markdown",
   "metadata": {},
   "source": [
    "## 在 Fortran 中调用 Julia 函数\n",
    "\n",
    "利用 Fortran 的 `ISO_C_BINDING` 模块，我们可以在 Fortran 中调用 Julia 的 C API，进而调用 Julia 函数。在 `interoperability/fortran` 目录下，我们提供了一个在 Fortran 中调用 Julia 函数的例子。项目仓库中已经使用 CMake 配置好了编译和链接的有关选项，直接构建即可生成可执行程序 `FortranJulia`。\n",
    "\n",
    "```{.fortran filename=\"interoperability/fortran/src/main.f90\"}\n",
    "module JuliaWrapper\n",
    "   use, intrinsic :: iso_c_binding, only : c_ptr\n",
    "   type(c_ptr), bind(c, name=\"jl_main_module\") :: jl_main_module\n",
    "\n",
    "   interface\n",
    "      subroutine jl_init() bind(c, name=\"jl_init\")\n",
    "      end subroutine jl_init\n",
    "\n",
    "      type(c_ptr) function jl_eval_string(str) bind(c, name=\"jl_eval_string\")\n",
    "         use, intrinsic :: iso_c_binding, only : c_char, c_ptr\n",
    "         character(kind=c_char), dimension(*), intent(in) :: str\n",
    "      end function jl_eval_string\n",
    "\n",
    "      type(c_ptr) function jl_symbol(str) bind(c)\n",
    "         use, intrinsic :: iso_c_binding, only : c_char, c_ptr\n",
    "         character(kind=c_char), dimension(*), intent(in) :: str\n",
    "      end function jl_symbol\n",
    "\n",
    "      type(c_ptr) function jl_get_global(m, var) bind(c, name=\"jl_get_global\")\n",
    "         use, intrinsic :: iso_c_binding, only : c_ptr\n",
    "         type(c_ptr), value, intent(in) :: m, var\n",
    "      end function jl_get_global\n",
    "\n",
    "      type(c_ptr) function jl_box_float64(x) bind(c, name=\"jl_box_float64\")\n",
    "         use, intrinsic :: iso_c_binding, only : c_double, c_ptr\n",
    "         real(c_double), value, intent(in) :: x\n",
    "      end function jl_box_float64\n",
    "\n",
    "      real(c_double) function jl_unbox_float64(x) bind(c, name=\"jl_unbox_float64\")\n",
    "         use, intrinsic :: iso_c_binding, only : c_double, c_ptr\n",
    "         type(c_ptr), value, intent(in) :: x\n",
    "      end function jl_unbox_float64\n",
    "\n",
    "      type(c_ptr) function jl_call1(f, arg1) bind(c, name=\"jl_call1\")\n",
    "         use, intrinsic :: iso_c_binding, only : c_ptr\n",
    "         type(c_ptr), value, intent(in) :: f, arg1\n",
    "      end function jl_call1\n",
    "\n",
    "      subroutine jl_atexit_hook(code) bind(c, name=\"jl_atexit_hook\")\n",
    "         use, intrinsic :: iso_c_binding, only : c_int\n",
    "         integer(c_int), value :: code\n",
    "      end subroutine jl_atexit_hook\n",
    "   end interface\n",
    "end module JuliaWrapper\n",
    "\n",
    "program FortranJulia\n",
    "   use JuliaWrapper\n",
    "   use iso_c_binding, only : c_char, c_null_char\n",
    "   implicit none\n",
    "\n",
    "   type(c_ptr) :: res, sym, jl_sqrt\n",
    "\n",
    "   call jl_init()\n",
    "   sym = jl_symbol(c_char_\"sqrt\"//c_null_char)\n",
    "   jl_sqrt = jl_get_global(jl_main_module, sym)\n",
    "   res = jl_call1(jl_sqrt, jl_box_float64(2.0d0))\n",
    "   print *, jl_unbox_float64(res)\n",
    "   call jl_atexit_hook(0)\n",
    "end program FortranJulia\n",
    "```\n",
    "\n",
    "运行 `FortranJulia`，输出结果应当为：\n",
    "\n",
    "```{.output}\n",
    "   1.4142135623730951\n",
    "```\n",
    "\n",
    ":::{.callout-note}\n",
    "### 说明\n",
    "\n",
    "在上面的例子中，需要特别注意的有以下两点：\n",
    "\n",
    "- `JuliaWrapper` 模块中定义的辅助函数中，需要为非数组的输入参数声明 `value` 属性。\n",
    "- 因为 C 中的字符串是以 `NULL` 结尾的，所以在对应函数需要字符串时，我们需要将字符串写成 `c_char_\"sqrt\"//c_null_char` 这样的形式。\n",
    ":::"
   ]
  }
 ],
 "metadata": {
  "kernelspec": {
   "display_name": "Julia 1.8.5",
   "language": "julia",
   "name": "julia-1.8"
  },
  "language_info": {
   "file_extension": ".jl",
   "mimetype": "application/julia",
   "name": "julia",
   "version": "1.8.5"
  },
  "orig_nbformat": 4
 },
 "nbformat": 4,
 "nbformat_minor": 2
}
