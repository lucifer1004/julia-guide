{
  "cells": [
    {
      "attachments": {},
      "cell_type": "markdown",
      "id": "8a9d7ead",
      "metadata": {},
      "source": [
        "---\n",
        "lang: zh\n",
        "jupyter: julia-1.8\n",
        "---"
      ]
    },
    {
      "attachments": {},
      "cell_type": "markdown",
      "id": "9640cf78",
      "metadata": {},
      "source": [
        "# Julia 与 C 的互操作\n",
        "\n",
        "## 在 Julia 中调用 C 函数\n",
        "\n",
        "在 Julia 中调用 C 函数非常简单，我们只需要使用 `ccall` 函数即可。"
      ]
    },
    {
      "cell_type": "code",
      "execution_count": 1,
      "id": "6518e692",
      "metadata": {},
      "outputs": [
        {
          "name": "stdout",
          "output_type": "stream",
          "text": [
            "Hello World!\n"
          ]
        }
      ],
      "source": [
        "ccall(:printf, Cvoid, (Cstring,), \"Hello World!\\n\")"
      ]
    },
    {
      "attachments": {},
      "cell_type": "markdown",
      "id": "0fab14a9",
      "metadata": {},
      "source": [
        "`ccall` 的参数可以分为四部分：\n",
        "\n",
        "- `:printf` 部分对应要调用的 C 函数的名称或函数指针。\n",
        "- `Cvoid` 部分对应 C 函数的返回值类型。\n",
        "- `(Cstring,)` 部分对应 C 函数的参数类型。\n",
        "- 剩余部分对应于传入 C 函数的参数。这些参数应当与 C 函数的参数类型一一对应。"
      ]
    },
    {
      "attachments": {},
      "cell_type": "markdown",
      "id": "c37a9bea",
      "metadata": {},
      "source": [
        "此外，Julia 还提供了 `@ccall` 宏，可以简化这一调用。"
      ]
    },
    {
      "cell_type": "code",
      "execution_count": 2,
      "id": "163a74d6",
      "metadata": {},
      "outputs": [
        {
          "name": "stdout",
          "output_type": "stream",
          "text": [
            "Hello World using @ccall!"
          ]
        }
      ],
      "source": [
        "@ccall printf(\"Hello World using @ccall!\"::Cstring)::Cvoid"
      ]
    },
    {
      "attachments": {},
      "cell_type": "markdown",
      "id": "693a786a",
      "metadata": {},
      "source": [
        ":::{.callout-note}\n",
        "#### 说明\n",
        "\n",
        "`ccall` 函数和 `@ccall` 宏更详细的使用方法可以参考 Julia 官方文档中的[有关内容](https://docs.julialang.org/en/v1/manual/calling-c-and-fortran-code/)（中文版本在[这里](https://docs.juliacn.com/latest/manual/calling-c-and-fortran-code/)）。\n",
        ":::"
      ]
    },
    {
      "attachments": {},
      "cell_type": "markdown",
      "id": "542cff68",
      "metadata": {},
      "source": [
        "### 从动态链接库中调用 C 函数\n",
        "\n",
        "上面的例子中，可以直接调用 `printf` 函数，是因为 Julia 运行时所依赖的 `libjulia` 动态链接库本身包含了一些常用的 C 标准库。如果我们想要调用其他动态链接库中的函数，则必须告诉 Julia 运行时这个函数所对应的动态链接库的位置。\n",
        "\n",
        "作为示例，我们在 `interoperability/c` 目录下提供了一个简单的动态链接库 `libJuliaC`，其中包含了几个简单的 C 函数。\n",
        "\n",
        "```c\n",
        "#include \"math.h\"\n",
        "\n",
        "int FLAG = 0;\n",
        "\n",
        "int fibonacci(int n) {\n",
        "    if (FLAG < n) {\n",
        "        FLAG = n;\n",
        "    }\n",
        "\n",
        "    if (n < 2)\n",
        "        return n;\n",
        "    \n",
        "    int a = 0, b = 1, c;\n",
        "    for (int i = 2; i <= n; i++) {\n",
        "        c = a + b;\n",
        "        a = b;\n",
        "        b = c;\n",
        "    }\n",
        "\n",
        "    return b;\n",
        "}\n",
        "\n",
        "void map(double *arr, int size, double (*f)(double)) {\n",
        "    for (int i = 0; i < size; i++) {\n",
        "        arr[i] = f(arr[i]);\n",
        "    }\n",
        "}\n",
        "```\n",
        "\n",
        "使用 CMake 构建这一动态链接库，并将构建得到的库文件复制到当前目录下，就可以运行下面的代码。\n",
        "\n",
        "最简单的方式是直接声明对应动态链接库的路径（绝对路径或相对路径均可），就像下面这样："
      ]
    },
    {
      "cell_type": "code",
      "execution_count": 3,
      "id": "cdae6451",
      "metadata": {},
      "outputs": [
        {
          "data": {
            "text/plain": [
              "55"
            ]
          },
          "metadata": {},
          "output_type": "display_data"
        }
      ],
      "source": [
        "ccall((:fibonacci, \"libJuliaC\"), Cint, (Cint,), 10)"
      ]
    },
    {
      "attachments": {},
      "cell_type": "markdown",
      "id": "40ddd170",
      "metadata": {},
      "source": [
        "我们也可以借助 Julia 标准库中的 `Libdl` 模块来动态加载动态链接库，然后再调用其中的函数。这样做的好处是可以在运行时动态地加载动态链接库。"
      ]
    },
    {
      "cell_type": "code",
      "execution_count": 4,
      "id": "6df2d61e",
      "metadata": {},
      "outputs": [
        {
          "name": "stdout",
          "output_type": "stream",
          "text": [
            "ccall(fibonacci, Cint, (Cint,), 10) = 55\n"
          ]
        }
      ],
      "source": [
        "using Libdl: dlopen, dlsym, dlclose\n",
        "\n",
        "# 加载动态库\n",
        "libJuliaC = dlopen(\"libJuliaC\")\n",
        "\n",
        "# 获取函数指针\n",
        "fibonacci = dlsym(libJuliaC, :fibonacci)\n",
        "\n",
        "@show ccall(fibonacci, Cint, (Cint,), 10)\n",
        "\n",
        "# 卸载动态库\n",
        "dlclose(libJuliaC);"
      ]
    },
    {
      "attachments": {},
      "cell_type": "markdown",
      "id": "eb1e561c",
      "metadata": {},
      "source": [
        "我们也可以使用 `dlopen` 的另一种调用方式："
      ]
    },
    {
      "cell_type": "code",
      "execution_count": 5,
      "id": "85a4222a",
      "metadata": {},
      "outputs": [
        {
          "name": "stdout",
          "output_type": "stream",
          "text": [
            "ccall(fibonacci, Cint, (Cint,), 10) = 55\n"
          ]
        }
      ],
      "source": [
        "dlopen(\"libJuliaC\") do libJuliaC\n",
        "    fibonacci = dlsym(libJuliaC, :fibonacci)\n",
        "    @show ccall(fibonacci, Cint, (Cint,), 10)\n",
        "    dlclose(libJuliaC)\n",
        "\n",
        "    return nothing\n",
        "end"
      ]
    },
    {
      "attachments": {},
      "cell_type": "markdown",
      "id": "c597f7a6",
      "metadata": {},
      "source": [
        "### 使用 C 中定义的全局变量\n",
        "\n",
        "有时，我们还需要使用 C 中定义的全局变量。我们可以使用 `cglobal` 函数来获取对应的全局变量的指针。"
      ]
    },
    {
      "cell_type": "code",
      "execution_count": 6,
      "id": "0f755443",
      "metadata": {},
      "outputs": [
        {
          "name": "stdout",
          "output_type": "stream",
          "text": [
            "flag = 0\n",
            "flag = 10\n",
            "flag = 100\n"
          ]
        }
      ],
      "source": [
        "dlopen(\"libJuliaC\") do libJuliaC\n",
        "    # 获取 C 语言中的全局变量 `FLAG`\n",
        "    flag_sym = dlsym(libJuliaC, :FLAG)\n",
        "    flag_ptr = cglobal(flag_sym, Cint)\n",
        "    flag = unsafe_load(flag_ptr)\n",
        "    @show flag\n",
        "\n",
        "    # 调用 `fibonacci` 函数后，`FLAG` 的值会被修改\n",
        "    fibonacci = dlsym(libJuliaC, :fibonacci)\n",
        "    ccall(fibonacci, Cint, (Cint,), 10)\n",
        "    flag = unsafe_load(flag_ptr)\n",
        "    @show flag\n",
        "\n",
        "    # 在 Julia 中修改 C 语言中的全局变量\n",
        "    unsafe_store!(flag_ptr, 100)\n",
        "    flag = unsafe_load(flag_ptr)\n",
        "    @show flag\n",
        "\n",
        "    dlclose(libJuliaC)\n",
        "\n",
        "    return nothing\n",
        "end"
      ]
    },
    {
      "attachments": {},
      "cell_type": "markdown",
      "id": "78208e01",
      "metadata": {},
      "source": [
        "### 将 Julia 函数作为函数指针传入 C 函数"
      ]
    },
    {
      "cell_type": "code",
      "execution_count": 7,
      "id": "2dd6baab",
      "metadata": {},
      "outputs": [
        {
          "data": {
            "text/plain": [
              "3-element Vector{Float64}:\n",
              "  1.0\n",
              "  8.0\n",
              " 27.0"
            ]
          },
          "metadata": {},
          "output_type": "display_data"
        }
      ],
      "source": [
        "cfunc = @cfunction(x -> x^3, Cdouble, (Cdouble,))\n",
        "\n",
        "dlopen(\"libJuliaC\") do libJuliaC\n",
        "    c_map = dlsym(libJuliaC, :map)\n",
        "    arr = [1.0, 2.0, 3.0]\n",
        "\n",
        "    # 调用 `libJuliaC` 中的 `map` 函数\n",
        "    result = ccall(c_map, Cvoid,\n",
        "        (Ptr{Cdouble}, Cint, Ptr{Cvoid}),\n",
        "        arr, length(arr), cfunc\n",
        "    )\n",
        "\n",
        "    dlclose(libJuliaC)\n",
        "    arr\n",
        "end"
      ]
    },
    {
      "attachments": {},
      "cell_type": "markdown",
      "id": "e0656604",
      "metadata": {},
      "source": [
        ":::{.callout-note}\n",
        "#### 注意\n",
        "\n",
        "需要强调的是，如果不调用 `dlclose` 函数，动态链接库将保持加载状态。如果我们希望动态链接库中的全局变量在每次调用时都能够被重置，就需要及时调用 `dlclose` 函数。\n",
        ":::\n",
        "\n",
        "## 在 C 中调用 Julia 函数\n",
        "\n",
        "下面是一个在 C 中调用 Julia 函数的例子。项目仓库中已经使用 CMake 配置好了编译和链接的有关选项，直接构建即可生成可执行程序 `CJulia`。\n",
        "\n",
        "```c\n",
        "#include <julia.h>\n",
        "// 如果希望提高代码运行速度，在一个可执行程序中定义这一选项且仅定义一次。\n",
        "JULIA_DEFINE_FAST_TLS\n",
        "\n",
        "int main(int argc, char *argv[])\n",
        "{\n",
        "    /* 初始化 Julia 环境（必须进行这一步骤） */\n",
        "    jl_init();\n",
        "\n",
        "    /* 从 Julia 的 `Main` 模块中获取 `sqrt` 函数 */\n",
        "    jl_value_t *jl_sqrt = jl_get_function(jl_main_module, \"sqrt\");\n",
        "\n",
        "    /* 调用 `sqrt` 函数。这里需要对 C 中的数值进行装箱。 */\n",
        "    jl_value_t *result = jl_call1(jl_sqrt, jl_box_float64(2.0));\n",
        "\n",
        "    /* 输出结果。这里需要对 Julia 函数的运行结果进行拆箱。 */\n",
        "    printf(\"sqrt(2.0) = %f\", jl_unbox_float64(result));\n",
        "\n",
        "    /* 清理并退出 Julia 环境（强烈建议进行这一步骤） */\n",
        "    jl_atexit_hook(0);\n",
        "    return 0;\n",
        "}\n",
        "```\n",
        "\n",
        ":::{.callout-note}\n",
        "### 说明\n",
        "\n",
        "在 C 中调用 Julia 函数更详细的方法可以参考 Julia 官方文档中的[有关内容](https://docs.julialang.org/en/v1/manual/embedding/)（中文版本在[这里](https://docs.juliacn.com/latest/manual/embedding/)）。\n",
        ":::"
      ]
    }
  ],
  "metadata": {
    "kernelspec": {
      "display_name": "Julia 1.8.5",
      "language": "julia",
      "name": "julia-1.8"
    },
    "language_info": {
      "file_extension": ".jl",
      "mimetype": "application/julia",
      "name": "julia",
      "version": "1.8.5"
    }
  },
  "nbformat": 4,
  "nbformat_minor": 5
}
