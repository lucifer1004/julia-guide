{
  "cells": [
    {
      "attachments": {},
      "cell_type": "markdown",
      "id": "1c23b9a2",
      "metadata": {},
      "source": [
        "---\n",
        "lang: zh\n",
        "---"
      ]
    },
    {
      "attachments": {},
      "cell_type": "markdown",
      "id": "411ee8d4",
      "metadata": {},
      "source": [
        "# Julia 与 R 的互操作\n",
        "\n",
        "## 在 Julia 中调用 R"
      ]
    },
    {
      "cell_type": "code",
      "execution_count": null,
      "id": "dd840cba",
      "metadata": {},
      "outputs": [],
      "source": [
        "#| code-fold: true\n",
        "#| code-summary: \"本节运行环境配置\"\n",
        "#| output: false\n",
        "\n",
        "import Pkg; Pkg.activate(\"..\")"
      ]
    },
    {
      "attachments": {},
      "cell_type": "markdown",
      "id": "6de3073c",
      "metadata": {},
      "source": [
        "可以使用 [RCall.jl](https://github.com/JuliaInterop/RCall.jl) 在 Julia 中调用 R。它的使用非常简单，就像下面这样："
      ]
    },
    {
      "cell_type": "code",
      "execution_count": 7,
      "id": "7c3d1df9",
      "metadata": {},
      "outputs": [
        {
          "name": "stderr",
          "output_type": "stream",
          "text": [
            "\u001b[32m\u001b[1m  Activating\u001b[22m\u001b[39m project at `~/com.github/lucifer1004/julia-guide`\n",
            "┌ Warning: RCall.jl: Saving 7 x 7 in image\n",
            "└ @ RCall /home/ubuntu/.julia/packages/RCall/Wyd74/src/io.jl:172\n"
          ]
        }
      ],
      "source": [
        "#| output: false\n",
        "\n",
        "using DataFrames, RCall\n",
        "\n",
        "# 使用 `@rlibrary` 宏载入 `ggplot2` 包（需要本地 R 环境已经安装该包）\n",
        "@rlibrary ggplot2\n",
        "\n",
        "# 使用 `DataFrames.jl` 在 Julia 侧创建数据框\n",
        "df = DataFrame(x=1:10, y=rand(10))\n",
        "\n",
        "# 绘制并保存\n",
        "(ggplot(df, aes(x=:x, y=:y)) + geom_line()) |>\n",
        "p -> ggsave(\"ggplot.svg\", p);"
      ]
    },
    {
      "attachments": {},
      "cell_type": "markdown",
      "id": "a71b6d89",
      "metadata": {},
      "source": [
        "![](./ggplot.svg)"
      ]
    },
    {
      "attachments": {},
      "cell_type": "markdown",
      "id": "9aab717f",
      "metadata": {},
      "source": [
        ":::{.callout-note}\n",
        "### 说明\n",
        "\n",
        "- 在 Julia REPL 中使用 `RCall.jl` 时，可以输入 `$` 进入 R REPL 模式，并可以在这一模式下通过 `$foo` 的方式使用在 Julia 环境中定义的变量。\n",
        ":::"
      ]
    },
    {
      "attachments": {},
      "cell_type": "markdown",
      "id": "b96fc5ec",
      "metadata": {},
      "source": [
        "## 在 R 中调用 Julia\n",
        "\n",
        "可以使用 R 的 [JuliaCall](https://github.com/Non-Contradiction/JuliaCall) 包来在 R 中调用 Julia。\n",
        "\n",
        "```{.r}\n",
        "library(JuliaCall)\n",
        "julia <- julia_setup()\n",
        "julia_command(\"a = sqrt(2);\"); julia_eval(\"a\")\n",
        "#> [1] 1.414214\n",
        "```"
      ]
    }
  ],
  "metadata": {
    "kernelspec": {
      "display_name": "Julia 1.8.5",
      "language": "julia",
      "name": "julia-1.8"
    },
    "language_info": {
      "file_extension": ".jl",
      "mimetype": "application/julia",
      "name": "julia",
      "version": "1.8.5"
    },
    "vscode": {
      "interpreter": {
        "hash": "b4f582ed41a83da89f210acd461d0a1e2a38fc38591814e11d87021212146b3f"
      }
    }
  },
  "nbformat": 4,
  "nbformat_minor": 5
}
