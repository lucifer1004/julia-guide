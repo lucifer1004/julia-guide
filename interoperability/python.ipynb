{
  "cells": [
    {
      "attachments": {},
      "cell_type": "markdown",
      "id": "1c23b9a2",
      "metadata": {},
      "source": [
        "---\n",
        "lang: zh\n",
        "---"
      ]
    },
    {
      "attachments": {},
      "cell_type": "markdown",
      "id": "411ee8d4",
      "metadata": {},
      "source": [
        "# Julia 与 Python 的互操作\n",
        "\n",
        "## 在 Julia 中调用 Python\n",
        "\n",
        "目前推荐使用 [PythonCall.jl](https://github.com/cjdoris/PythonCall.jl)。它的使用非常简单，就像下面这样："
      ]
    },
    {
      "cell_type": "code",
      "execution_count": 5,
      "id": "7c3d1df9",
      "metadata": {},
      "outputs": [
        {
          "data": {
            "text/plain": [
              "\u001b[0m\u001b[1mPython list: \u001b[22m['PythonCall', 'jl', 'is', 'very', 'useful']"
            ]
          },
          "metadata": {},
          "output_type": "display_data"
        }
      ],
      "source": [
        "using PythonCall\n",
        "\n",
        "re = pyimport(\"re\")\n",
        "words = re.findall(\"[a-zA-Z]+\", \"PythonCall.jl is very useful!\")"
      ]
    },
    {
      "attachments": {},
      "cell_type": "markdown",
      "id": "9aab717f",
      "metadata": {},
      "source": [
        ":::{.callout-note}\n",
        "### 说明\n",
        "\n",
        "- `PythonCall.jl` 定义了一套 Julia 和 Python 之间的类型转换规则，可以参考[这里](https://cjdoris.github.io/PythonCall.jl/stable/pythoncall/#Conversion-between-Julia-and-Python)。\n",
        "- 默认情况下，`PythonCall.jl` 会使用 `CondaPkg.jl` 来维护一个独立的 Python 环境。但有些时候，我们可能希望使用当前系统中的 Python 或 Conda 环境。这时可以参考[这里](https://cjdoris.github.io/PythonCall.jl/stable/pythoncall/#pythoncall-config)来进行对应的配置。\n",
        ":::"
      ]
    },
    {
      "attachments": {},
      "cell_type": "markdown",
      "id": "b96fc5ec",
      "metadata": {},
      "source": [
        "## 在 Python 中调用 Julia\n",
        "\n",
        "`PythonCall.jl` 还同时提供了姊妹包 `juliacall` 以实现在 Python 中调用 Julia。这里也提供了一个简单的例子：\n",
        "\n",
        "```{.python}\n",
        "import numpy as np\n",
        "from juliacall import Main as jl\n",
        "\n",
        "x = jl.rand(range(10), 3, 5)\n",
        "np.sum(x, axis=0)\n",
        "```"
      ]
    }
  ],
  "metadata": {
    "kernelspec": {
      "display_name": "Julia 1.8.5",
      "language": "julia",
      "name": "julia-1.8"
    },
    "language_info": {
      "file_extension": ".jl",
      "mimetype": "application/julia",
      "name": "julia",
      "version": "1.8.5"
    },
    "vscode": {
      "interpreter": {
        "hash": "b4f582ed41a83da89f210acd461d0a1e2a38fc38591814e11d87021212146b3f"
      }
    }
  },
  "nbformat": 4,
  "nbformat_minor": 5
}
